{
  "nbformat": 4,
  "nbformat_minor": 0,
  "metadata": {
    "colab": {
      "provenance": [],
      "authorship_tag": "ABX9TyPO4ENQSj6ATL4B9N2dN2ae",
      "include_colab_link": true
    },
    "kernelspec": {
      "name": "python3",
      "display_name": "Python 3"
    },
    "language_info": {
      "name": "python"
    }
  },
  "cells": [
    {
      "cell_type": "markdown",
      "metadata": {
        "id": "view-in-github",
        "colab_type": "text"
      },
      "source": [
        "<a href=\"https://colab.research.google.com/github/ivantumusiime/yvantumusime2401000492/blob/main/Intersection.ipynb\" target=\"_parent\"><img src=\"https://colab.research.google.com/assets/colab-badge.svg\" alt=\"Open In Colab\"/></a>"
      ]
    },
    {
      "cell_type": "code",
      "execution_count": 2,
      "metadata": {
        "colab": {
          "base_uri": "https://localhost:8080/"
        },
        "id": "L-OVmAVxBWuh",
        "outputId": "c8a95afa-b5e7-4819-d9ab-f17acbb84017"
      },
      "outputs": [
        {
          "output_type": "stream",
          "name": "stdout",
          "text": [
            "Intersection: {'of', 'study', 'is', 'systematic', 'history', 'the'}\n",
            "Union: {'just', 'study', 'this', 'is', 'past', 'past,', 'the', 'of', 'practice', 'systematic', 'history', 'for'}\n"
          ]
        }
      ],
      "source": [
        "def sentence_operations(sentence1, sentence2):\n",
        "  set1 = set(sentence1.lower().split())\n",
        "  set2 = set(sentence2.lower().split())\n",
        "\n",
        "  intersection = set1.intersection(set2)\n",
        "  union = set1.union(set2)\n",
        "\n",
        "  return intersection, union\n",
        "\n",
        "file1 = \"History is the systematic study of the past\"\n",
        "file2 = \"history is the systematic study of the past, this is just for practice\"\n",
        "intersection, union = sentence_operations(file1, file2)\n",
        "print(\"Intersection:\", intersection)\n",
        "print(\"Union:\", union)"
      ]
    }
  ]
}