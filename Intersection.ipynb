{
  "nbformat": 4,
  "nbformat_minor": 0,
  "metadata": {
    "colab": {
      "provenance": [],
      "authorship_tag": "ABX9TyOeF7ddE3YaaxDeR+cojXfK",
      "include_colab_link": true
    },
    "kernelspec": {
      "name": "python3",
      "display_name": "Python 3"
    },
    "language_info": {
      "name": "python"
    }
  },
  "cells": [
    {
      "cell_type": "markdown",
      "metadata": {
        "id": "view-in-github",
        "colab_type": "text"
      },
      "source": [
        "<a href=\"https://colab.research.google.com/github/ivantumusiime/yvantumusime2401000492/blob/main/Intersection.ipynb\" target=\"_parent\"><img src=\"https://colab.research.google.com/assets/colab-badge.svg\" alt=\"Open In Colab\"/></a>"
      ]
    },
    {
      "cell_type": "code",
      "execution_count": 15,
      "metadata": {
        "colab": {
          "base_uri": "https://localhost:8080/"
        },
        "id": "L-OVmAVxBWuh",
        "outputId": "ab56bb95-db0e-46ba-d95b-778e55d83a4a"
      },
      "outputs": [
        {
          "output_type": "stream",
          "name": "stdout",
          "text": [
            "similarity: 0.50\n",
            "common words: {'of', 'study', 'is', 'systematic', 'history', 'the'}\n"
          ]
        }
      ],
      "source": [
        "def jaccard_similarity(file1, file2):\n",
        "\n",
        "  set1 = set(file1.lower().split())\n",
        "  set2 = set(file2.lower().split())\n",
        "\n",
        "  intersection = set1.intersection(set2)\n",
        "  union = set1.union(set2)\n",
        "  similarity=len(intersection)/len(union)\n",
        "  return similarity, intersection\n",
        "\n",
        "file1 = \"History is the systematic study of the past\"\n",
        "file2 = \"history is the systematic study of the past, this is just for practice\"\n",
        "\n",
        "similarity, common_words = jaccard_similarity(file1, file2)\n",
        "\n",
        "print(f\"similarity: {similarity:.2f}\")\n",
        "print(f\"common words: {common_words}\")"
      ]
    }
  ]
}