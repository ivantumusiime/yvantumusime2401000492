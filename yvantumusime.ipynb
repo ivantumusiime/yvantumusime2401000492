{
  "nbformat": 4,
  "nbformat_minor": 0,
  "metadata": {
    "colab": {
      "provenance": [],
      "authorship_tag": "ABX9TyNV28Mud5SQKYUDjY6/XRpT",
      "include_colab_link": true
    },
    "kernelspec": {
      "name": "python3",
      "display_name": "Python 3"
    },
    "language_info": {
      "name": "python"
    }
  },
  "cells": [
    {
      "cell_type": "markdown",
      "metadata": {
        "id": "view-in-github",
        "colab_type": "text"
      },
      "source": [
        "<a href=\"https://colab.research.google.com/github/ivantumusiime/yvantumusime2401000492/blob/main/yvantumusime.ipynb\" target=\"_parent\"><img src=\"https://colab.research.google.com/assets/colab-badge.svg\" alt=\"Open In Colab\"/></a>"
      ]
    },
    {
      "cell_type": "code",
      "execution_count": 10,
      "metadata": {
        "id": "N-ee6WpkBihT"
      },
      "outputs": [],
      "source": [
        "import pandas as pd"
      ]
    },
    {
      "cell_type": "code",
      "source": [
        "\n",
        "import pandas as pd\n",
        "\n",
        "# Define phishing keywords\n",
        "phishing_keywords = [\"urgent\", \"password reset\", \"bank\", \"verify\", \"account suspended\"]\n",
        "\n",
        "# Load the dataset (replace with the correct file path)\n",
        "try:\n",
        "    # Load the dataset\n",
        "    emails = pd.read_csv(\"/content/yvantumusime_2401000492.csv\")\n",
        "    print(\"Dataset loaded successfully.\")\n",
        "\n",
        "    # Print the available columns to help you identify the correct one\n",
        "    print(\"Dataset columns:\", emails.columns)\n",
        "\n",
        "    # Set the correct column name (update if it's different from 'content')\n",
        "    column_name = 'content'  # Change this to the correct column name if needed (e.g., 'email_body')\n",
        "\n",
        "    if column_name in emails.columns:\n",
        "        # Ensure the content column is treated as a string to prevent errors\n",
        "        emails[column_name] = emails[column_name].astype(str)\n",
        "\n",
        "        # Apply phishing detection: check if any phishing keyword exists in the email content\n",
        "        emails[\"is_phishing\"] = emails[column_name].apply(\n",
        "            lambda x: any(keyword in x.lower() for keyword in phishing_keywords)\n",
        "        )\n",
        "\n",
        "        # Save the processed dataset with phishing labels to a new file\n",
        "        emails.to_csv(\"/content/analyzed_emails.csv\", index=False)\n",
        "        print(\"Phishing detection complete. ✅ The results are saved in 'analyzed_emails.csv'.\")\n",
        "    else:\n",
        "        print(f\"Error: The '{column_name}' column is missing from the dataset.\")\n",
        "        print(\"Available columns:\", emails.columns)\n",
        "\n",
        "except FileNotFoundError:\n",
        "    print(\"Error: The file '/content/yvantumusime_2401000492.csv' was not found.\")\n",
        "except Exception as e:\n",
        "    print(f\"An unexpected error occurred: {e}\")\n",
        "\n",
        "\n"
      ],
      "metadata": {
        "colab": {
          "base_uri": "https://localhost:8080/"
        },
        "id": "WVkSOSRFKNXo",
        "outputId": "5f542a02-614c-46b9-d03b-db301817622d"
      },
      "execution_count": 40,
      "outputs": [
        {
          "output_type": "stream",
          "name": "stdout",
          "text": [
            "Dataset loaded successfully.\n",
            "Dataset columns: Index(['Email_ID', 'Content'], dtype='object')\n",
            "Error: The 'content' column is missing from the dataset.\n",
            "Available columns: Index(['Email_ID', 'Content'], dtype='object')\n"
          ]
        }
      ]
    }
  ]
}